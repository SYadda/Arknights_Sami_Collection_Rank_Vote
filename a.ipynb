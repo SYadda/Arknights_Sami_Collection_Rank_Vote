{
 "cells": [
  {
   "cell_type": "code",
   "execution_count": null,
   "metadata": {},
   "outputs": [],
   "source": [
    "#2023.8.30更新了数据存储结构，对之前的数据做处理"
   ]
  },
  {
   "cell_type": "code",
   "execution_count": 2,
   "metadata": {},
   "outputs": [],
   "source": [
    "import pickle"
   ]
  },
  {
   "cell_type": "code",
   "execution_count": 3,
   "metadata": {},
   "outputs": [],
   "source": [
    "with open('list/win_score.pickle', 'wb') as f:\n",
    "    pickle.dump([1] * 230, f)\n",
    "with open('list/lose_score.pickle', 'wb') as f:\n",
    "    pickle.dump([1] * 230, f)"
   ]
  },
  {
   "cell_type": "code",
   "execution_count": null,
   "metadata": {},
   "outputs": [],
   "source": [
    "with open('list/win_record.txt', 'r') as f:\n",
    "    lst_win_record = [f.readline()[:-1] for _ in range(108959)]"
   ]
  },
  {
   "cell_type": "code",
   "execution_count": null,
   "metadata": {},
   "outputs": [],
   "source": [
    "with open('list/lose_record.txt', 'r') as f:\n",
    "    lst_lose_record = [f.readline()[:-1] for _ in range(108959)]"
   ]
  },
  {
   "cell_type": "code",
   "execution_count": null,
   "metadata": {},
   "outputs": [],
   "source": [
    "with open('list/win_score.pickle', 'rb') as f:\n",
    "    lst_win_score = pickle.load(f)\n",
    "with open('list/lose_score.pickle', 'rb') as f:\n",
    "    lst_lose_score = pickle.load(f)\n",
    "lst_win_score"
   ]
  },
  {
   "cell_type": "code",
   "execution_count": null,
   "metadata": {},
   "outputs": [],
   "source": [
    "lst_lose_score"
   ]
  },
  {
   "cell_type": "code",
   "execution_count": null,
   "metadata": {},
   "outputs": [],
   "source": [
    "lst_percent_score = ['%.1f'%(100 * lst_win_score[_] / (lst_win_score[_] + lst_lose_score[_])) + ' %' for _ in range(81)]\n",
    "lst_percent_score"
   ]
  },
  {
   "cell_type": "code",
   "execution_count": null,
   "metadata": {},
   "outputs": [],
   "source": [
    "dict_name  =  {'能天使': 0, '推进之王': 1, '伊芙利特': 2, '艾雅法拉': 3, '安洁莉娜': 4, '闪灵': 5, '夜莺': 6, '星熊': 7, '塞雷娅': 8, '银灰': 9, '斯卡蒂': 10, '陈': 11, '黑': 12, '赫拉格': 13, '麦哲伦': 14, '莫斯提马': 15, '煌': 16, '阿': 17, '年': 18, '刻俄柏': 19, '风笛': 20, '傀影': 21, '温蒂': 22, 'W': 23, '早露': 24, '铃兰': 25, '棘刺': 26, '森蚺': 27, '史尔特尔': 28, '瑕光': 29, '泥岩': 30, '迷迭香': 31, '山': 32, '空弦': 33, '嵯峨': 34, '夕': 35, '灰烬': 36, '异客': 37, '歌蕾蒂娅': 38, '凯尔希': 39, '浊心斯卡蒂': 40, '卡涅利安': 41, '帕拉斯': 42, '水月': 43, '假日威龙陈': 44, '琴柳': 45, '远牙': 46, '焰尾': 47, '耀骑士临光': 48, '灵知': 49, '老鲤': 50, '令': 51, '澄闪': 52, '菲亚梅塔': 53, '号角': 54, '流明': 55, '艾丽妮': 56, '归溟幽灵鲨': 57, '黑键': 58, '多萝西': 59, '鸿雪': 60, '百炼嘉维尔': 61, '玛恩纳': 62, '白铁': 63, '伺夜': 64, '斥罪': 65, '缄默德克萨斯': 66, '焰影苇草': 67, '林': 68, '重岳': 69, '仇白': 70, '麒麟R夜刀': 71, '伊内丝': 72, '淬羽赫默': 73, '霍尔海雅': 74, '缪尔赛思': 75, '圣约送葬人': 76, '提丰': 77, '琳琅诗怀雅': 78, '纯烬艾雅法拉': 79, '涤火杰西卡': 80}"
   ]
  },
  {
   "cell_type": "code",
   "execution_count": null,
   "metadata": {},
   "outputs": [],
   "source": [
    "for i in range(len(lst_win_record)):\n",
    "    _ = lst_win_record[i]\n",
    "    __ = lst_lose_record[i]\n",
    "    if _ in dict_name and __ in dict_name:\n",
    "        lst_win_score[dict_name[_]] += 1\n",
    "        lst_lose_score[dict_name[__]] += 1"
   ]
  },
  {
   "cell_type": "code",
   "execution_count": null,
   "metadata": {},
   "outputs": [],
   "source": [
    "lst_win_score"
   ]
  },
  {
   "cell_type": "code",
   "execution_count": null,
   "metadata": {},
   "outputs": [],
   "source": [
    "lst_lose_score"
   ]
  },
  {
   "cell_type": "code",
   "execution_count": null,
   "metadata": {},
   "outputs": [],
   "source": [
    "a = [1, 2, 3]\n",
    "b = [4, 5, 6]\n",
    "c = [7, 8, 9]\n",
    "xxxx = zip(zip(a, b), c)"
   ]
  },
  {
   "cell_type": "code",
   "execution_count": null,
   "metadata": {},
   "outputs": [],
   "source": [
    "xxa, xxb = zip(*xxxx)"
   ]
  },
  {
   "cell_type": "code",
   "execution_count": null,
   "metadata": {},
   "outputs": [],
   "source": [
    "xxa"
   ]
  },
  {
   "cell_type": "code",
   "execution_count": null,
   "metadata": {},
   "outputs": [],
   "source": [
    "xxb"
   ]
  },
  {
   "cell_type": "code",
   "execution_count": 22,
   "metadata": {},
   "outputs": [
    {
     "data": {
      "text/plain": [
       "['fa64ff', '6464ff', '64ffff', '64ff64', 'ffff64', 'ffe464', 'ff6464']"
      ]
     },
     "execution_count": 22,
     "metadata": {},
     "output_type": "execute_result"
    }
   ],
   "source": [
    "# RGB彩虹色渐变算法\n",
    "# https://www.cnblogs.com/wzdxy/p/5346930.html\n",
    "\n",
    "import math\n",
    "\n",
    "def caihong_rgb(i): \n",
    "\n",
    "    full = 6\n",
    "    r = g = b = 0\n",
    "\n",
    "    if i < full/3:\n",
    "        r = 255\n",
    "        g = math.ceil(255*3*i/full)\n",
    "        b = 0\n",
    "    elif i < full/2:\n",
    "        r = math.ceil(750-i*(250*6/full))\n",
    "        g = 255\n",
    "        b = 0\n",
    "    elif i < full*2/3:\n",
    "        r = 0\n",
    "        g = 255\n",
    "        b = math.ceil(i*(250*6/full)-750)\n",
    "    elif i < full*5/6 :\n",
    "        r = 0\n",
    "        g = math.ceil(1250-i*(250*6/full))\n",
    "        b = 255\n",
    "    else:\n",
    "        r = math.ceil(150*i*(6/full)-750)\n",
    "        g = 0\n",
    "        b = 255\n",
    "\n",
    "    r = r + 100 if r + 100 <= 255 else 255 # 变亮\n",
    "    g = g + 100 if g + 100 <= 255 else 255\n",
    "    b = b + 100 if b + 100 <= 255 else 255\n",
    "\n",
    "    return str(hex(r))[-2:].replace('x', '0') + str(hex(g))[-2:].replace('x', '0') + str(hex(b))[-2:].replace('x', '0')\n",
    "\n",
    "lst = [caihong_rgb(_) for _ in range(7)]\n",
    "lst.reverse()\n",
    "lst"
   ]
  }
 ],
 "metadata": {
  "kernelspec": {
   "display_name": "base",
   "language": "python",
   "name": "python3"
  },
  "language_info": {
   "codemirror_mode": {
    "name": "ipython",
    "version": 3
   },
   "file_extension": ".py",
   "mimetype": "text/x-python",
   "name": "python",
   "nbconvert_exporter": "python",
   "pygments_lexer": "ipython3",
   "version": "3.10.9"
  },
  "orig_nbformat": 4
 },
 "nbformat": 4,
 "nbformat_minor": 2
}
