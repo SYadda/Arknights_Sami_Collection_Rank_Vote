{
 "cells": [
  {
   "cell_type": "code",
   "execution_count": null,
   "metadata": {},
   "outputs": [],
   "source": [
    "import pandas as pd\n",
    "import time\n",
    "from selenium import webdriver\n",
    "from selenium.webdriver.common.by import By\n",
    "import random"
   ]
  },
  {
   "cell_type": "code",
   "execution_count": null,
   "metadata": {},
   "outputs": [],
   "source": [
    "# 从PRTS.wiki爬取数据"
   ]
  },
  {
   "cell_type": "code",
   "execution_count": null,
   "metadata": {},
   "outputs": [],
   "source": [
    "opts = webdriver.EdgeOptions()\n",
    "opts.add_argument('--headless')\n",
    "opts.add_argument('--disable-gpu')\n",
    "driver = webdriver.Edge(options=opts)"
   ]
  },
  {
   "cell_type": "code",
   "execution_count": null,
   "metadata": {},
   "outputs": [],
   "source": [
    "driver.get('https://prts.wiki/w/%E6%8E%A2%E7%B4%A2%E8%80%85%E7%9A%84%E9%93%B6%E5%87%87%E6%AD%A2%E5%A2%83/%E4%BB%AA%E5%BC%8F%E7%94%A8%E5%93%81%E7%B4%A2%E5%BC%95')"
   ]
  },
  {
   "cell_type": "code",
   "execution_count": null,
   "metadata": {},
   "outputs": [],
   "source": [
    "lst_all_collection = driver.find_elements(By.CLASS_NAME, 'image')\n",
    "\n",
    "name = [_.find_element(By.XPATH, \"../../../tr[1]/th[2]\").text for _ in lst_all_collection]\n",
    "\n",
    "effect = [lst_all_collection[i].find_element(By.XPATH, \"../../../tr[3]/td/b\").text \n",
    "          if i in (219, 220, 221) else \n",
    "          lst_all_collection[i].find_element(By.XPATH, \"../../../tr[3]/td[2]/b\").text for i in range(len(lst_all_collection))]\n",
    "\n",
    "price = ['0' if i in (219, 220, 221) else lst_all_collection[i].find_element(By.XPATH, \"../../../tr[3]/td[1]/div/span\").text for i in range(len(lst_all_collection))]\n",
    "\n",
    "pic_url = ['https://prts.wiki' + _.find_elements(By.XPATH, \"./*\")[0].get_attribute(\"data-src\") for _ in lst_all_collection]"
   ]
  },
  {
   "cell_type": "code",
   "execution_count": null,
   "metadata": {},
   "outputs": [],
   "source": [
    "df = pd.DataFrame({\n",
    "    'name': name,\n",
    "    'effect': effect,\n",
    "    'price': price,\n",
    "    'pic_url': pic_url,\n",
    "})\n",
    "\n",
    "df.to_csv('sami_collection.csv')\n",
    "df"
   ]
  },
  {
   "cell_type": "code",
   "execution_count": null,
   "metadata": {},
   "outputs": [],
   "source": [
    "dict(zip(name, pic_url))"
   ]
  },
  {
   "cell_type": "code",
   "execution_count": null,
   "metadata": {},
   "outputs": [],
   "source": [
    "dict(zip(name, range(len(name))))"
   ]
  },
  {
   "cell_type": "code",
   "execution_count": null,
   "metadata": {},
   "outputs": [],
   "source": [
    "effect_极地化 = []\n",
    "for _ in effect:\n",
    "    effect_s = _.split('【极地化】')\n",
    "    if len(effect_s) == 1:\n",
    "        effect_极地化.append(effect_s[-1])\n",
    "    else:\n",
    "        effect_极地化.append('【极地化(9~15难度)】' + effect_s[-1])\n",
    "effect_极地化"
   ]
  }
 ],
 "metadata": {
  "kernelspec": {
   "display_name": "base",
   "language": "python",
   "name": "python3"
  },
  "language_info": {
   "codemirror_mode": {
    "name": "ipython",
    "version": 3
   },
   "file_extension": ".py",
   "mimetype": "text/x-python",
   "name": "python",
   "nbconvert_exporter": "python",
   "pygments_lexer": "ipython3",
   "version": "3.10.9"
  },
  "orig_nbformat": 4
 },
 "nbformat": 4,
 "nbformat_minor": 2
}
